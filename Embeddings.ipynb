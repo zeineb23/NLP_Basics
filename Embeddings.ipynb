{
  "nbformat": 4,
  "nbformat_minor": 0,
  "metadata": {
    "colab": {
      "provenance": []
    },
    "kernelspec": {
      "name": "python3",
      "display_name": "Python 3"
    },
    "language_info": {
      "name": "python"
    }
  },
  "cells": [
    {
      "cell_type": "markdown",
      "source": [
        "Gensim is an open-source Python library specialized in natural language processing (NLP) tasks, specifically for unsupervised learning of topics from text data. It is widely used for building and training text-based models such as Word2Vec, Doc2Vec, and Latent Dirichlet Allocation (LDA)."
      ],
      "metadata": {
        "id": "EDwIAU0f7X2g"
      }
    },
    {
      "cell_type": "code",
      "execution_count": 1,
      "metadata": {
        "colab": {
          "base_uri": "https://localhost:8080/"
        },
        "id": "BHeUbFTi3FEN",
        "outputId": "ab673716-3dd3-43c2-b5ea-c06a332b555c"
      },
      "outputs": [
        {
          "output_type": "stream",
          "name": "stdout",
          "text": [
            "Requirement already satisfied: gensim in /usr/local/lib/python3.10/dist-packages (4.3.3)\n",
            "Requirement already satisfied: numpy<2.0,>=1.18.5 in /usr/local/lib/python3.10/dist-packages (from gensim) (1.26.4)\n",
            "Requirement already satisfied: scipy<1.14.0,>=1.7.0 in /usr/local/lib/python3.10/dist-packages (from gensim) (1.13.1)\n",
            "Requirement already satisfied: smart-open>=1.8.1 in /usr/local/lib/python3.10/dist-packages (from gensim) (7.0.4)\n",
            "Requirement already satisfied: wrapt in /usr/local/lib/python3.10/dist-packages (from smart-open>=1.8.1->gensim) (1.16.0)\n"
          ]
        }
      ],
      "source": [
        "!pip install gensim"
      ]
    },
    {
      "cell_type": "code",
      "source": [
        "import gensim.downloader as api"
      ],
      "metadata": {
        "id": "GimBtkhW3ZSe"
      },
      "execution_count": 2,
      "outputs": []
    },
    {
      "cell_type": "code",
      "source": [
        "info=api.info()\n",
        "print(info)"
      ],
      "metadata": {
        "colab": {
          "base_uri": "https://localhost:8080/"
        },
        "id": "tNcUUnKE8EiO",
        "outputId": "72d7ffd9-d96e-48d8-abd4-dfbbf0b4c628"
      },
      "execution_count": 3,
      "outputs": [
        {
          "output_type": "stream",
          "name": "stdout",
          "text": [
            "{'corpora': {'semeval-2016-2017-task3-subtaskBC': {'num_records': -1, 'record_format': 'dict', 'file_size': 6344358, 'reader_code': 'https://github.com/RaRe-Technologies/gensim-data/releases/download/semeval-2016-2017-task3-subtaskB-eng/__init__.py', 'license': 'All files released for the task are free for general research use', 'fields': {'2016-train': ['...'], '2016-dev': ['...'], '2017-test': ['...'], '2016-test': ['...']}, 'description': 'SemEval 2016 / 2017 Task 3 Subtask B and C datasets contain train+development (317 original questions, 3,169 related questions, and 31,690 comments), and test datasets in English. The description of the tasks and the collected data is given in sections 3 and 4.1 of the task paper http://alt.qcri.org/semeval2016/task3/data/uploads/semeval2016-task3-report.pdf linked in section “Papers” of https://github.com/RaRe-Technologies/gensim-data/issues/18.', 'checksum': '701ea67acd82e75f95e1d8e62fb0ad29', 'file_name': 'semeval-2016-2017-task3-subtaskBC.gz', 'read_more': ['http://alt.qcri.org/semeval2017/task3/', 'http://alt.qcri.org/semeval2017/task3/data/uploads/semeval2017-task3.pdf', 'https://github.com/RaRe-Technologies/gensim-data/issues/18', 'https://github.com/Witiko/semeval-2016_2017-task3-subtaskB-english'], 'parts': 1}, 'semeval-2016-2017-task3-subtaskA-unannotated': {'num_records': 189941, 'record_format': 'dict', 'file_size': 234373151, 'reader_code': 'https://github.com/RaRe-Technologies/gensim-data/releases/download/semeval-2016-2017-task3-subtaskA-unannotated-eng/__init__.py', 'license': 'These datasets are free for general research use.', 'fields': {'THREAD_SEQUENCE': '', 'RelQuestion': {'RELQ_CATEGORY': 'question category, according to the Qatar Living taxonomy', 'RELQ_DATE': 'date of posting', 'RELQ_ID': 'question indentifier', 'RELQ_USERID': 'identifier of the user asking the question', 'RELQ_USERNAME': 'name of the user asking the question', 'RelQBody': 'body of question', 'RelQSubject': 'subject of question'}, 'RelComments': [{'RelCText': 'text of answer', 'RELC_USERID': 'identifier of the user posting the comment', 'RELC_ID': 'comment identifier', 'RELC_USERNAME': 'name of the user posting the comment', 'RELC_DATE': 'date of posting'}]}, 'description': 'SemEval 2016 / 2017 Task 3 Subtask A unannotated dataset contains 189,941 questions and 1,894,456 comments in English collected from the Community Question Answering (CQA) web forum of Qatar Living. These can be used as a corpus for language modelling.', 'checksum': '2de0e2f2c4f91c66ae4fcf58d50ba816', 'file_name': 'semeval-2016-2017-task3-subtaskA-unannotated.gz', 'read_more': ['http://alt.qcri.org/semeval2016/task3/', 'http://alt.qcri.org/semeval2016/task3/data/uploads/semeval2016-task3-report.pdf', 'https://github.com/RaRe-Technologies/gensim-data/issues/18', 'https://github.com/Witiko/semeval-2016_2017-task3-subtaskA-unannotated-english'], 'parts': 1}, 'patent-2017': {'num_records': 353197, 'record_format': 'dict', 'file_size': 3087262469, 'reader_code': 'https://github.com/RaRe-Technologies/gensim-data/releases/download/patent-2017/__init__.py', 'license': 'not found', 'description': \"Patent Grant Full Text. Contains the full text including tables, sequence data and 'in-line' mathematical expressions of each patent grant issued in 2017.\", 'checksum-0': '818501f0b9af62d3b88294d86d509f8f', 'checksum-1': '66c05635c1d3c7a19b4a335829d09ffa', 'file_name': 'patent-2017.gz', 'read_more': ['http://patents.reedtech.com/pgrbft.php'], 'parts': 2}, 'quora-duplicate-questions': {'num_records': 404290, 'record_format': 'dict', 'file_size': 21684784, 'reader_code': 'https://github.com/RaRe-Technologies/gensim-data/releases/download/quora-duplicate-questions/__init__.py', 'license': 'probably https://www.quora.com/about/tos', 'fields': {'question1': 'the full text of each question', 'question2': 'the full text of each question', 'qid1': 'unique ids of each question', 'qid2': 'unique ids of each question', 'id': 'the id of a training set question pair', 'is_duplicate': 'the target variable, set to 1 if question1 and question2 have essentially the same meaning, and 0 otherwise'}, 'description': 'Over 400,000 lines of potential question duplicate pairs. Each line contains IDs for each question in the pair, the full text for each question, and a binary value that indicates whether the line contains a duplicate pair or not.', 'checksum': 'd7cfa7fbc6e2ec71ab74c495586c6365', 'file_name': 'quora-duplicate-questions.gz', 'read_more': ['https://data.quora.com/First-Quora-Dataset-Release-Question-Pairs'], 'parts': 1}, 'wiki-english-20171001': {'num_records': 4924894, 'record_format': 'dict', 'file_size': 6516051717, 'reader_code': 'https://github.com/RaRe-Technologies/gensim-data/releases/download/wiki-english-20171001/__init__.py', 'license': 'https://dumps.wikimedia.org/legal.html', 'fields': {'section_texts': 'list of body of sections', 'section_titles': 'list of titles of sections', 'title': 'Title of wiki article'}, 'description': 'Extracted Wikipedia dump from October 2017. Produced by `python -m gensim.scripts.segment_wiki -f enwiki-20171001-pages-articles.xml.bz2 -o wiki-en.gz`', 'checksum-0': 'a7d7d7fd41ea7e2d7fa32ec1bb640d71', 'checksum-1': 'b2683e3356ffbca3b6c2dca6e9801f9f', 'checksum-2': 'c5cde2a9ae77b3c4ebce804f6df542c2', 'checksum-3': '00b71144ed5e3aeeb885de84f7452b81', 'file_name': 'wiki-english-20171001.gz', 'read_more': ['https://dumps.wikimedia.org/enwiki/20171001/'], 'parts': 4}, 'text8': {'num_records': 1701, 'record_format': 'list of str (tokens)', 'file_size': 33182058, 'reader_code': 'https://github.com/RaRe-Technologies/gensim-data/releases/download/text8/__init__.py', 'license': 'not found', 'description': 'First 100,000,000 bytes of plain text from Wikipedia. Used for testing purposes; see wiki-english-* for proper full Wikipedia datasets.', 'checksum': '68799af40b6bda07dfa47a32612e5364', 'file_name': 'text8.gz', 'read_more': ['http://mattmahoney.net/dc/textdata.html'], 'parts': 1}, 'fake-news': {'num_records': 12999, 'record_format': 'dict', 'file_size': 20102776, 'reader_code': 'https://github.com/RaRe-Technologies/gensim-data/releases/download/fake-news/__init__.py', 'license': 'https://creativecommons.org/publicdomain/zero/1.0/', 'fields': {'crawled': 'date the story was archived', 'ord_in_thread': '', 'published': 'date published', 'participants_count': 'number of participants', 'shares': 'number of Facebook shares', 'replies_count': 'number of replies', 'main_img_url': 'image from story', 'spam_score': 'data from webhose.io', 'uuid': 'unique identifier', 'language': 'data from webhose.io', 'title': 'title of story', 'country': 'data from webhose.io', 'domain_rank': 'data from webhose.io', 'author': 'author of story', 'comments': 'number of Facebook comments', 'site_url': 'site URL from BS detector', 'text': 'text of story', 'thread_title': '', 'type': 'type of website (label from BS detector)', 'likes': 'number of Facebook likes'}, 'description': \"News dataset, contains text and metadata from 244 websites and represents 12,999 posts in total from a specific window of 30 days. The data was pulled using the webhose.io API, and because it's coming from their crawler, not all websites identified by their BS Detector are present in this dataset. Data sources that were missing a label were simply assigned a label of 'bs'. There are (ostensibly) no genuine, reliable, or trustworthy news sources represented in this dataset (so far), so don't trust anything you read.\", 'checksum': '5e64e942df13219465927f92dcefd5fe', 'file_name': 'fake-news.gz', 'read_more': ['https://www.kaggle.com/mrisdal/fake-news'], 'parts': 1}, '20-newsgroups': {'num_records': 18846, 'record_format': 'dict', 'file_size': 14483581, 'reader_code': 'https://github.com/RaRe-Technologies/gensim-data/releases/download/20-newsgroups/__init__.py', 'license': 'not found', 'fields': {'topic': 'name of topic (20 variant of possible values)', 'set': \"marker of original split (possible values 'train' and 'test')\", 'data': '', 'id': 'original id inferred from folder name'}, 'description': 'The notorious collection of approximately 20,000 newsgroup posts, partitioned (nearly) evenly across 20 different newsgroups.', 'checksum': 'c92fd4f6640a86d5ba89eaad818a9891', 'file_name': '20-newsgroups.gz', 'read_more': ['http://qwone.com/~jason/20Newsgroups/'], 'parts': 1}, '__testing_matrix-synopsis': {'description': '[THIS IS ONLY FOR TESTING] Synopsis of the movie matrix.', 'checksum': '1767ac93a089b43899d54944b07d9dc5', 'file_name': '__testing_matrix-synopsis.gz', 'read_more': ['http://www.imdb.com/title/tt0133093/plotsummary?ref_=ttpl_pl_syn#synopsis'], 'parts': 1}, '__testing_multipart-matrix-synopsis': {'description': '[THIS IS ONLY FOR TESTING] Synopsis of the movie matrix.', 'checksum-0': 'c8b0c7d8cf562b1b632c262a173ac338', 'checksum-1': '5ff7fc6818e9a5d9bc1cf12c35ed8b96', 'checksum-2': '966db9d274d125beaac7987202076cba', 'file_name': '__testing_multipart-matrix-synopsis.gz', 'read_more': ['http://www.imdb.com/title/tt0133093/plotsummary?ref_=ttpl_pl_syn#synopsis'], 'parts': 3}}, 'models': {'fasttext-wiki-news-subwords-300': {'num_records': 999999, 'file_size': 1005007116, 'base_dataset': 'Wikipedia 2017, UMBC webbase corpus and statmt.org news dataset (16B tokens)', 'reader_code': 'https://github.com/RaRe-Technologies/gensim-data/releases/download/fasttext-wiki-news-subwords-300/__init__.py', 'license': 'https://creativecommons.org/licenses/by-sa/3.0/', 'parameters': {'dimension': 300}, 'description': '1 million word vectors trained on Wikipedia 2017, UMBC webbase corpus and statmt.org news dataset (16B tokens).', 'read_more': ['https://fasttext.cc/docs/en/english-vectors.html', 'https://arxiv.org/abs/1712.09405', 'https://arxiv.org/abs/1607.01759'], 'checksum': 'de2bb3a20c46ce65c9c131e1ad9a77af', 'file_name': 'fasttext-wiki-news-subwords-300.gz', 'parts': 1}, 'conceptnet-numberbatch-17-06-300': {'num_records': 1917247, 'file_size': 1225497562, 'base_dataset': 'ConceptNet, word2vec, GloVe, and OpenSubtitles 2016', 'reader_code': 'https://github.com/RaRe-Technologies/gensim-data/releases/download/conceptnet-numberbatch-17-06-300/__init__.py', 'license': 'https://github.com/commonsense/conceptnet-numberbatch/blob/master/LICENSE.txt', 'parameters': {'dimension': 300}, 'description': 'ConceptNet Numberbatch consists of state-of-the-art semantic vectors (also known as word embeddings) that can be used directly as a representation of word meanings or as a starting point for further machine learning. ConceptNet Numberbatch is part of the ConceptNet open data project. ConceptNet provides lots of ways to compute with word meanings, one of which is word embeddings. ConceptNet Numberbatch is a snapshot of just the word embeddings. It is built using an ensemble that combines data from ConceptNet, word2vec, GloVe, and OpenSubtitles 2016, using a variation on retrofitting.', 'read_more': ['http://aaai.org/ocs/index.php/AAAI/AAAI17/paper/view/14972', 'https://github.com/commonsense/conceptnet-numberbatch', 'http://conceptnet.io/'], 'checksum': 'fd642d457adcd0ea94da0cd21b150847', 'file_name': 'conceptnet-numberbatch-17-06-300.gz', 'parts': 1}, 'word2vec-ruscorpora-300': {'num_records': 184973, 'file_size': 208427381, 'base_dataset': 'Russian National Corpus (about 250M words)', 'reader_code': 'https://github.com/RaRe-Technologies/gensim-data/releases/download/word2vec-ruscorpora-300/__init__.py', 'license': 'https://creativecommons.org/licenses/by/4.0/deed.en', 'parameters': {'dimension': 300, 'window_size': 10}, 'description': 'Word2vec Continuous Skipgram vectors trained on full Russian National Corpus (about 250M words). The model contains 185K words.', 'preprocessing': 'The corpus was lemmatized and tagged with Universal PoS', 'read_more': ['https://www.academia.edu/24306935/WebVectors_a_Toolkit_for_Building_Web_Interfaces_for_Vector_Semantic_Models', 'http://rusvectores.org/en/', 'https://github.com/RaRe-Technologies/gensim-data/issues/3'], 'checksum': '9bdebdc8ae6d17d20839dd9b5af10bc4', 'file_name': 'word2vec-ruscorpora-300.gz', 'parts': 1}, 'word2vec-google-news-300': {'num_records': 3000000, 'file_size': 1743563840, 'base_dataset': 'Google News (about 100 billion words)', 'reader_code': 'https://github.com/RaRe-Technologies/gensim-data/releases/download/word2vec-google-news-300/__init__.py', 'license': 'not found', 'parameters': {'dimension': 300}, 'description': \"Pre-trained vectors trained on a part of the Google News dataset (about 100 billion words). The model contains 300-dimensional vectors for 3 million words and phrases. The phrases were obtained using a simple data-driven approach described in 'Distributed Representations of Words and Phrases and their Compositionality' (https://code.google.com/archive/p/word2vec/).\", 'read_more': ['https://code.google.com/archive/p/word2vec/', 'https://arxiv.org/abs/1301.3781', 'https://arxiv.org/abs/1310.4546', 'https://www.microsoft.com/en-us/research/publication/linguistic-regularities-in-continuous-space-word-representations/?from=http%3A%2F%2Fresearch.microsoft.com%2Fpubs%2F189726%2Frvecs.pdf'], 'checksum': 'a5e5354d40acb95f9ec66d5977d140ef', 'file_name': 'word2vec-google-news-300.gz', 'parts': 1}, 'glove-wiki-gigaword-50': {'num_records': 400000, 'file_size': 69182535, 'base_dataset': 'Wikipedia 2014 + Gigaword 5 (6B tokens, uncased)', 'reader_code': 'https://github.com/RaRe-Technologies/gensim-data/releases/download/glove-wiki-gigaword-50/__init__.py', 'license': 'http://opendatacommons.org/licenses/pddl/', 'parameters': {'dimension': 50}, 'description': 'Pre-trained vectors based on Wikipedia 2014 + Gigaword, 5.6B tokens, 400K vocab, uncased (https://nlp.stanford.edu/projects/glove/).', 'preprocessing': 'Converted to w2v format with `python -m gensim.scripts.glove2word2vec -i <fname> -o glove-wiki-gigaword-50.txt`.', 'read_more': ['https://nlp.stanford.edu/projects/glove/', 'https://nlp.stanford.edu/pubs/glove.pdf'], 'checksum': 'c289bc5d7f2f02c6dc9f2f9b67641813', 'file_name': 'glove-wiki-gigaword-50.gz', 'parts': 1}, 'glove-wiki-gigaword-100': {'num_records': 400000, 'file_size': 134300434, 'base_dataset': 'Wikipedia 2014 + Gigaword 5 (6B tokens, uncased)', 'reader_code': 'https://github.com/RaRe-Technologies/gensim-data/releases/download/glove-wiki-gigaword-100/__init__.py', 'license': 'http://opendatacommons.org/licenses/pddl/', 'parameters': {'dimension': 100}, 'description': 'Pre-trained vectors based on Wikipedia 2014 + Gigaword 5.6B tokens, 400K vocab, uncased (https://nlp.stanford.edu/projects/glove/).', 'preprocessing': 'Converted to w2v format with `python -m gensim.scripts.glove2word2vec -i <fname> -o glove-wiki-gigaword-100.txt`.', 'read_more': ['https://nlp.stanford.edu/projects/glove/', 'https://nlp.stanford.edu/pubs/glove.pdf'], 'checksum': '40ec481866001177b8cd4cb0df92924f', 'file_name': 'glove-wiki-gigaword-100.gz', 'parts': 1}, 'glove-wiki-gigaword-200': {'num_records': 400000, 'file_size': 264336934, 'base_dataset': 'Wikipedia 2014 + Gigaword 5 (6B tokens, uncased)', 'reader_code': 'https://github.com/RaRe-Technologies/gensim-data/releases/download/glove-wiki-gigaword-200/__init__.py', 'license': 'http://opendatacommons.org/licenses/pddl/', 'parameters': {'dimension': 200}, 'description': 'Pre-trained vectors based on Wikipedia 2014 + Gigaword, 5.6B tokens, 400K vocab, uncased (https://nlp.stanford.edu/projects/glove/).', 'preprocessing': 'Converted to w2v format with `python -m gensim.scripts.glove2word2vec -i <fname> -o glove-wiki-gigaword-200.txt`.', 'read_more': ['https://nlp.stanford.edu/projects/glove/', 'https://nlp.stanford.edu/pubs/glove.pdf'], 'checksum': '59652db361b7a87ee73834a6c391dfc1', 'file_name': 'glove-wiki-gigaword-200.gz', 'parts': 1}, 'glove-wiki-gigaword-300': {'num_records': 400000, 'file_size': 394362229, 'base_dataset': 'Wikipedia 2014 + Gigaword 5 (6B tokens, uncased)', 'reader_code': 'https://github.com/RaRe-Technologies/gensim-data/releases/download/glove-wiki-gigaword-300/__init__.py', 'license': 'http://opendatacommons.org/licenses/pddl/', 'parameters': {'dimension': 300}, 'description': 'Pre-trained vectors based on Wikipedia 2014 + Gigaword, 5.6B tokens, 400K vocab, uncased (https://nlp.stanford.edu/projects/glove/).', 'preprocessing': 'Converted to w2v format with `python -m gensim.scripts.glove2word2vec -i <fname> -o glove-wiki-gigaword-300.txt`.', 'read_more': ['https://nlp.stanford.edu/projects/glove/', 'https://nlp.stanford.edu/pubs/glove.pdf'], 'checksum': '29e9329ac2241937d55b852e8284e89b', 'file_name': 'glove-wiki-gigaword-300.gz', 'parts': 1}, 'glove-twitter-25': {'num_records': 1193514, 'file_size': 109885004, 'base_dataset': 'Twitter (2B tweets, 27B tokens, 1.2M vocab, uncased)', 'reader_code': 'https://github.com/RaRe-Technologies/gensim-data/releases/download/glove-twitter-25/__init__.py', 'license': 'http://opendatacommons.org/licenses/pddl/', 'parameters': {'dimension': 25}, 'description': 'Pre-trained vectors based on 2B tweets, 27B tokens, 1.2M vocab, uncased (https://nlp.stanford.edu/projects/glove/).', 'preprocessing': 'Converted to w2v format with `python -m gensim.scripts.glove2word2vec -i <fname> -o glove-twitter-25.txt`.', 'read_more': ['https://nlp.stanford.edu/projects/glove/', 'https://nlp.stanford.edu/pubs/glove.pdf'], 'checksum': '50db0211d7e7a2dcd362c6b774762793', 'file_name': 'glove-twitter-25.gz', 'parts': 1}, 'glove-twitter-50': {'num_records': 1193514, 'file_size': 209216938, 'base_dataset': 'Twitter (2B tweets, 27B tokens, 1.2M vocab, uncased)', 'reader_code': 'https://github.com/RaRe-Technologies/gensim-data/releases/download/glove-twitter-50/__init__.py', 'license': 'http://opendatacommons.org/licenses/pddl/', 'parameters': {'dimension': 50}, 'description': 'Pre-trained vectors based on 2B tweets, 27B tokens, 1.2M vocab, uncased (https://nlp.stanford.edu/projects/glove/)', 'preprocessing': 'Converted to w2v format with `python -m gensim.scripts.glove2word2vec -i <fname> -o glove-twitter-50.txt`.', 'read_more': ['https://nlp.stanford.edu/projects/glove/', 'https://nlp.stanford.edu/pubs/glove.pdf'], 'checksum': 'c168f18641f8c8a00fe30984c4799b2b', 'file_name': 'glove-twitter-50.gz', 'parts': 1}, 'glove-twitter-100': {'num_records': 1193514, 'file_size': 405932991, 'base_dataset': 'Twitter (2B tweets, 27B tokens, 1.2M vocab, uncased)', 'reader_code': 'https://github.com/RaRe-Technologies/gensim-data/releases/download/glove-twitter-100/__init__.py', 'license': 'http://opendatacommons.org/licenses/pddl/', 'parameters': {'dimension': 100}, 'description': 'Pre-trained vectors based on  2B tweets, 27B tokens, 1.2M vocab, uncased (https://nlp.stanford.edu/projects/glove/)', 'preprocessing': 'Converted to w2v format with `python -m gensim.scripts.glove2word2vec -i <fname> -o glove-twitter-100.txt`.', 'read_more': ['https://nlp.stanford.edu/projects/glove/', 'https://nlp.stanford.edu/pubs/glove.pdf'], 'checksum': 'b04f7bed38756d64cf55b58ce7e97b15', 'file_name': 'glove-twitter-100.gz', 'parts': 1}, 'glove-twitter-200': {'num_records': 1193514, 'file_size': 795373100, 'base_dataset': 'Twitter (2B tweets, 27B tokens, 1.2M vocab, uncased)', 'reader_code': 'https://github.com/RaRe-Technologies/gensim-data/releases/download/glove-twitter-200/__init__.py', 'license': 'http://opendatacommons.org/licenses/pddl/', 'parameters': {'dimension': 200}, 'description': 'Pre-trained vectors based on 2B tweets, 27B tokens, 1.2M vocab, uncased (https://nlp.stanford.edu/projects/glove/).', 'preprocessing': 'Converted to w2v format with `python -m gensim.scripts.glove2word2vec -i <fname> -o glove-twitter-200.txt`.', 'read_more': ['https://nlp.stanford.edu/projects/glove/', 'https://nlp.stanford.edu/pubs/glove.pdf'], 'checksum': 'e52e8392d1860b95d5308a525817d8f9', 'file_name': 'glove-twitter-200.gz', 'parts': 1}, '__testing_word2vec-matrix-synopsis': {'description': '[THIS IS ONLY FOR TESTING] Word vecrors of the movie matrix.', 'parameters': {'dimensions': 50}, 'preprocessing': 'Converted to w2v using a preprocessed corpus. Converted to w2v format with `python3.5 -m gensim.models.word2vec -train <input_filename> -iter 50 -output <output_filename>`.', 'read_more': [], 'checksum': '534dcb8b56a360977a269b7bfc62d124', 'file_name': '__testing_word2vec-matrix-synopsis.gz', 'parts': 1}}}\n"
          ]
        }
      ]
    },
    {
      "cell_type": "code",
      "source": [
        "info['models'] #contains multiple embedding models (check all the file_names here)"
      ],
      "metadata": {
        "colab": {
          "base_uri": "https://localhost:8080/"
        },
        "id": "s1nMtnqS8L4H",
        "outputId": "9fedae2b-c60d-4a30-eae4-3c6e0032b75e"
      },
      "execution_count": 4,
      "outputs": [
        {
          "output_type": "execute_result",
          "data": {
            "text/plain": [
              "{'fasttext-wiki-news-subwords-300': {'num_records': 999999,\n",
              "  'file_size': 1005007116,\n",
              "  'base_dataset': 'Wikipedia 2017, UMBC webbase corpus and statmt.org news dataset (16B tokens)',\n",
              "  'reader_code': 'https://github.com/RaRe-Technologies/gensim-data/releases/download/fasttext-wiki-news-subwords-300/__init__.py',\n",
              "  'license': 'https://creativecommons.org/licenses/by-sa/3.0/',\n",
              "  'parameters': {'dimension': 300},\n",
              "  'description': '1 million word vectors trained on Wikipedia 2017, UMBC webbase corpus and statmt.org news dataset (16B tokens).',\n",
              "  'read_more': ['https://fasttext.cc/docs/en/english-vectors.html',\n",
              "   'https://arxiv.org/abs/1712.09405',\n",
              "   'https://arxiv.org/abs/1607.01759'],\n",
              "  'checksum': 'de2bb3a20c46ce65c9c131e1ad9a77af',\n",
              "  'file_name': 'fasttext-wiki-news-subwords-300.gz',\n",
              "  'parts': 1},\n",
              " 'conceptnet-numberbatch-17-06-300': {'num_records': 1917247,\n",
              "  'file_size': 1225497562,\n",
              "  'base_dataset': 'ConceptNet, word2vec, GloVe, and OpenSubtitles 2016',\n",
              "  'reader_code': 'https://github.com/RaRe-Technologies/gensim-data/releases/download/conceptnet-numberbatch-17-06-300/__init__.py',\n",
              "  'license': 'https://github.com/commonsense/conceptnet-numberbatch/blob/master/LICENSE.txt',\n",
              "  'parameters': {'dimension': 300},\n",
              "  'description': 'ConceptNet Numberbatch consists of state-of-the-art semantic vectors (also known as word embeddings) that can be used directly as a representation of word meanings or as a starting point for further machine learning. ConceptNet Numberbatch is part of the ConceptNet open data project. ConceptNet provides lots of ways to compute with word meanings, one of which is word embeddings. ConceptNet Numberbatch is a snapshot of just the word embeddings. It is built using an ensemble that combines data from ConceptNet, word2vec, GloVe, and OpenSubtitles 2016, using a variation on retrofitting.',\n",
              "  'read_more': ['http://aaai.org/ocs/index.php/AAAI/AAAI17/paper/view/14972',\n",
              "   'https://github.com/commonsense/conceptnet-numberbatch',\n",
              "   'http://conceptnet.io/'],\n",
              "  'checksum': 'fd642d457adcd0ea94da0cd21b150847',\n",
              "  'file_name': 'conceptnet-numberbatch-17-06-300.gz',\n",
              "  'parts': 1},\n",
              " 'word2vec-ruscorpora-300': {'num_records': 184973,\n",
              "  'file_size': 208427381,\n",
              "  'base_dataset': 'Russian National Corpus (about 250M words)',\n",
              "  'reader_code': 'https://github.com/RaRe-Technologies/gensim-data/releases/download/word2vec-ruscorpora-300/__init__.py',\n",
              "  'license': 'https://creativecommons.org/licenses/by/4.0/deed.en',\n",
              "  'parameters': {'dimension': 300, 'window_size': 10},\n",
              "  'description': 'Word2vec Continuous Skipgram vectors trained on full Russian National Corpus (about 250M words). The model contains 185K words.',\n",
              "  'preprocessing': 'The corpus was lemmatized and tagged with Universal PoS',\n",
              "  'read_more': ['https://www.academia.edu/24306935/WebVectors_a_Toolkit_for_Building_Web_Interfaces_for_Vector_Semantic_Models',\n",
              "   'http://rusvectores.org/en/',\n",
              "   'https://github.com/RaRe-Technologies/gensim-data/issues/3'],\n",
              "  'checksum': '9bdebdc8ae6d17d20839dd9b5af10bc4',\n",
              "  'file_name': 'word2vec-ruscorpora-300.gz',\n",
              "  'parts': 1},\n",
              " 'word2vec-google-news-300': {'num_records': 3000000,\n",
              "  'file_size': 1743563840,\n",
              "  'base_dataset': 'Google News (about 100 billion words)',\n",
              "  'reader_code': 'https://github.com/RaRe-Technologies/gensim-data/releases/download/word2vec-google-news-300/__init__.py',\n",
              "  'license': 'not found',\n",
              "  'parameters': {'dimension': 300},\n",
              "  'description': \"Pre-trained vectors trained on a part of the Google News dataset (about 100 billion words). The model contains 300-dimensional vectors for 3 million words and phrases. The phrases were obtained using a simple data-driven approach described in 'Distributed Representations of Words and Phrases and their Compositionality' (https://code.google.com/archive/p/word2vec/).\",\n",
              "  'read_more': ['https://code.google.com/archive/p/word2vec/',\n",
              "   'https://arxiv.org/abs/1301.3781',\n",
              "   'https://arxiv.org/abs/1310.4546',\n",
              "   'https://www.microsoft.com/en-us/research/publication/linguistic-regularities-in-continuous-space-word-representations/?from=http%3A%2F%2Fresearch.microsoft.com%2Fpubs%2F189726%2Frvecs.pdf'],\n",
              "  'checksum': 'a5e5354d40acb95f9ec66d5977d140ef',\n",
              "  'file_name': 'word2vec-google-news-300.gz',\n",
              "  'parts': 1},\n",
              " 'glove-wiki-gigaword-50': {'num_records': 400000,\n",
              "  'file_size': 69182535,\n",
              "  'base_dataset': 'Wikipedia 2014 + Gigaword 5 (6B tokens, uncased)',\n",
              "  'reader_code': 'https://github.com/RaRe-Technologies/gensim-data/releases/download/glove-wiki-gigaword-50/__init__.py',\n",
              "  'license': 'http://opendatacommons.org/licenses/pddl/',\n",
              "  'parameters': {'dimension': 50},\n",
              "  'description': 'Pre-trained vectors based on Wikipedia 2014 + Gigaword, 5.6B tokens, 400K vocab, uncased (https://nlp.stanford.edu/projects/glove/).',\n",
              "  'preprocessing': 'Converted to w2v format with `python -m gensim.scripts.glove2word2vec -i <fname> -o glove-wiki-gigaword-50.txt`.',\n",
              "  'read_more': ['https://nlp.stanford.edu/projects/glove/',\n",
              "   'https://nlp.stanford.edu/pubs/glove.pdf'],\n",
              "  'checksum': 'c289bc5d7f2f02c6dc9f2f9b67641813',\n",
              "  'file_name': 'glove-wiki-gigaword-50.gz',\n",
              "  'parts': 1},\n",
              " 'glove-wiki-gigaword-100': {'num_records': 400000,\n",
              "  'file_size': 134300434,\n",
              "  'base_dataset': 'Wikipedia 2014 + Gigaword 5 (6B tokens, uncased)',\n",
              "  'reader_code': 'https://github.com/RaRe-Technologies/gensim-data/releases/download/glove-wiki-gigaword-100/__init__.py',\n",
              "  'license': 'http://opendatacommons.org/licenses/pddl/',\n",
              "  'parameters': {'dimension': 100},\n",
              "  'description': 'Pre-trained vectors based on Wikipedia 2014 + Gigaword 5.6B tokens, 400K vocab, uncased (https://nlp.stanford.edu/projects/glove/).',\n",
              "  'preprocessing': 'Converted to w2v format with `python -m gensim.scripts.glove2word2vec -i <fname> -o glove-wiki-gigaword-100.txt`.',\n",
              "  'read_more': ['https://nlp.stanford.edu/projects/glove/',\n",
              "   'https://nlp.stanford.edu/pubs/glove.pdf'],\n",
              "  'checksum': '40ec481866001177b8cd4cb0df92924f',\n",
              "  'file_name': 'glove-wiki-gigaword-100.gz',\n",
              "  'parts': 1},\n",
              " 'glove-wiki-gigaword-200': {'num_records': 400000,\n",
              "  'file_size': 264336934,\n",
              "  'base_dataset': 'Wikipedia 2014 + Gigaword 5 (6B tokens, uncased)',\n",
              "  'reader_code': 'https://github.com/RaRe-Technologies/gensim-data/releases/download/glove-wiki-gigaword-200/__init__.py',\n",
              "  'license': 'http://opendatacommons.org/licenses/pddl/',\n",
              "  'parameters': {'dimension': 200},\n",
              "  'description': 'Pre-trained vectors based on Wikipedia 2014 + Gigaword, 5.6B tokens, 400K vocab, uncased (https://nlp.stanford.edu/projects/glove/).',\n",
              "  'preprocessing': 'Converted to w2v format with `python -m gensim.scripts.glove2word2vec -i <fname> -o glove-wiki-gigaword-200.txt`.',\n",
              "  'read_more': ['https://nlp.stanford.edu/projects/glove/',\n",
              "   'https://nlp.stanford.edu/pubs/glove.pdf'],\n",
              "  'checksum': '59652db361b7a87ee73834a6c391dfc1',\n",
              "  'file_name': 'glove-wiki-gigaword-200.gz',\n",
              "  'parts': 1},\n",
              " 'glove-wiki-gigaword-300': {'num_records': 400000,\n",
              "  'file_size': 394362229,\n",
              "  'base_dataset': 'Wikipedia 2014 + Gigaword 5 (6B tokens, uncased)',\n",
              "  'reader_code': 'https://github.com/RaRe-Technologies/gensim-data/releases/download/glove-wiki-gigaword-300/__init__.py',\n",
              "  'license': 'http://opendatacommons.org/licenses/pddl/',\n",
              "  'parameters': {'dimension': 300},\n",
              "  'description': 'Pre-trained vectors based on Wikipedia 2014 + Gigaword, 5.6B tokens, 400K vocab, uncased (https://nlp.stanford.edu/projects/glove/).',\n",
              "  'preprocessing': 'Converted to w2v format with `python -m gensim.scripts.glove2word2vec -i <fname> -o glove-wiki-gigaword-300.txt`.',\n",
              "  'read_more': ['https://nlp.stanford.edu/projects/glove/',\n",
              "   'https://nlp.stanford.edu/pubs/glove.pdf'],\n",
              "  'checksum': '29e9329ac2241937d55b852e8284e89b',\n",
              "  'file_name': 'glove-wiki-gigaword-300.gz',\n",
              "  'parts': 1},\n",
              " 'glove-twitter-25': {'num_records': 1193514,\n",
              "  'file_size': 109885004,\n",
              "  'base_dataset': 'Twitter (2B tweets, 27B tokens, 1.2M vocab, uncased)',\n",
              "  'reader_code': 'https://github.com/RaRe-Technologies/gensim-data/releases/download/glove-twitter-25/__init__.py',\n",
              "  'license': 'http://opendatacommons.org/licenses/pddl/',\n",
              "  'parameters': {'dimension': 25},\n",
              "  'description': 'Pre-trained vectors based on 2B tweets, 27B tokens, 1.2M vocab, uncased (https://nlp.stanford.edu/projects/glove/).',\n",
              "  'preprocessing': 'Converted to w2v format with `python -m gensim.scripts.glove2word2vec -i <fname> -o glove-twitter-25.txt`.',\n",
              "  'read_more': ['https://nlp.stanford.edu/projects/glove/',\n",
              "   'https://nlp.stanford.edu/pubs/glove.pdf'],\n",
              "  'checksum': '50db0211d7e7a2dcd362c6b774762793',\n",
              "  'file_name': 'glove-twitter-25.gz',\n",
              "  'parts': 1},\n",
              " 'glove-twitter-50': {'num_records': 1193514,\n",
              "  'file_size': 209216938,\n",
              "  'base_dataset': 'Twitter (2B tweets, 27B tokens, 1.2M vocab, uncased)',\n",
              "  'reader_code': 'https://github.com/RaRe-Technologies/gensim-data/releases/download/glove-twitter-50/__init__.py',\n",
              "  'license': 'http://opendatacommons.org/licenses/pddl/',\n",
              "  'parameters': {'dimension': 50},\n",
              "  'description': 'Pre-trained vectors based on 2B tweets, 27B tokens, 1.2M vocab, uncased (https://nlp.stanford.edu/projects/glove/)',\n",
              "  'preprocessing': 'Converted to w2v format with `python -m gensim.scripts.glove2word2vec -i <fname> -o glove-twitter-50.txt`.',\n",
              "  'read_more': ['https://nlp.stanford.edu/projects/glove/',\n",
              "   'https://nlp.stanford.edu/pubs/glove.pdf'],\n",
              "  'checksum': 'c168f18641f8c8a00fe30984c4799b2b',\n",
              "  'file_name': 'glove-twitter-50.gz',\n",
              "  'parts': 1},\n",
              " 'glove-twitter-100': {'num_records': 1193514,\n",
              "  'file_size': 405932991,\n",
              "  'base_dataset': 'Twitter (2B tweets, 27B tokens, 1.2M vocab, uncased)',\n",
              "  'reader_code': 'https://github.com/RaRe-Technologies/gensim-data/releases/download/glove-twitter-100/__init__.py',\n",
              "  'license': 'http://opendatacommons.org/licenses/pddl/',\n",
              "  'parameters': {'dimension': 100},\n",
              "  'description': 'Pre-trained vectors based on  2B tweets, 27B tokens, 1.2M vocab, uncased (https://nlp.stanford.edu/projects/glove/)',\n",
              "  'preprocessing': 'Converted to w2v format with `python -m gensim.scripts.glove2word2vec -i <fname> -o glove-twitter-100.txt`.',\n",
              "  'read_more': ['https://nlp.stanford.edu/projects/glove/',\n",
              "   'https://nlp.stanford.edu/pubs/glove.pdf'],\n",
              "  'checksum': 'b04f7bed38756d64cf55b58ce7e97b15',\n",
              "  'file_name': 'glove-twitter-100.gz',\n",
              "  'parts': 1},\n",
              " 'glove-twitter-200': {'num_records': 1193514,\n",
              "  'file_size': 795373100,\n",
              "  'base_dataset': 'Twitter (2B tweets, 27B tokens, 1.2M vocab, uncased)',\n",
              "  'reader_code': 'https://github.com/RaRe-Technologies/gensim-data/releases/download/glove-twitter-200/__init__.py',\n",
              "  'license': 'http://opendatacommons.org/licenses/pddl/',\n",
              "  'parameters': {'dimension': 200},\n",
              "  'description': 'Pre-trained vectors based on 2B tweets, 27B tokens, 1.2M vocab, uncased (https://nlp.stanford.edu/projects/glove/).',\n",
              "  'preprocessing': 'Converted to w2v format with `python -m gensim.scripts.glove2word2vec -i <fname> -o glove-twitter-200.txt`.',\n",
              "  'read_more': ['https://nlp.stanford.edu/projects/glove/',\n",
              "   'https://nlp.stanford.edu/pubs/glove.pdf'],\n",
              "  'checksum': 'e52e8392d1860b95d5308a525817d8f9',\n",
              "  'file_name': 'glove-twitter-200.gz',\n",
              "  'parts': 1},\n",
              " '__testing_word2vec-matrix-synopsis': {'description': '[THIS IS ONLY FOR TESTING] Word vecrors of the movie matrix.',\n",
              "  'parameters': {'dimensions': 50},\n",
              "  'preprocessing': 'Converted to w2v using a preprocessed corpus. Converted to w2v format with `python3.5 -m gensim.models.word2vec -train <input_filename> -iter 50 -output <output_filename>`.',\n",
              "  'read_more': [],\n",
              "  'checksum': '534dcb8b56a360977a269b7bfc62d124',\n",
              "  'file_name': '__testing_word2vec-matrix-synopsis.gz',\n",
              "  'parts': 1}}"
            ]
          },
          "metadata": {},
          "execution_count": 4
        }
      ]
    },
    {
      "cell_type": "code",
      "source": [
        "for model_name, model_data in sorted(info['models'].items()) :\n",
        "  print(model_name, model_data.get('num_records', -1),\n",
        "        model_data['description'][:40]+ '...')"
      ],
      "metadata": {
        "colab": {
          "base_uri": "https://localhost:8080/"
        },
        "id": "Sedy9Bpn8txg",
        "outputId": "62a45dad-4b9c-4ab1-d227-d5a23e3e8c01"
      },
      "execution_count": 5,
      "outputs": [
        {
          "output_type": "stream",
          "name": "stdout",
          "text": [
            "__testing_word2vec-matrix-synopsis -1 [THIS IS ONLY FOR TESTING] Word vecrors ...\n",
            "conceptnet-numberbatch-17-06-300 1917247 ConceptNet Numberbatch consists of state...\n",
            "fasttext-wiki-news-subwords-300 999999 1 million word vectors trained on Wikipe...\n",
            "glove-twitter-100 1193514 Pre-trained vectors based on  2B tweets,...\n",
            "glove-twitter-200 1193514 Pre-trained vectors based on 2B tweets, ...\n",
            "glove-twitter-25 1193514 Pre-trained vectors based on 2B tweets, ...\n",
            "glove-twitter-50 1193514 Pre-trained vectors based on 2B tweets, ...\n",
            "glove-wiki-gigaword-100 400000 Pre-trained vectors based on Wikipedia 2...\n",
            "glove-wiki-gigaword-200 400000 Pre-trained vectors based on Wikipedia 2...\n",
            "glove-wiki-gigaword-300 400000 Pre-trained vectors based on Wikipedia 2...\n",
            "glove-wiki-gigaword-50 400000 Pre-trained vectors based on Wikipedia 2...\n",
            "word2vec-google-news-300 3000000 Pre-trained vectors trained on a part of...\n",
            "word2vec-ruscorpora-300 184973 Word2vec Continuous Skipgram vectors tra...\n"
          ]
        }
      ]
    },
    {
      "cell_type": "markdown",
      "source": [
        "Word2Vec : Ces vecteurs capturent les relations sémantiques entre les mots, ce qui permet au modèle de comprendre des relations comme « roi » est à « reine » ce que « homme » est à « femme ».\n",
        "\n",
        "Limitations:\n",
        "\n",
        "-Indépendant du contexte\n",
        "\n",
        "-Mots hors vocabulaire (OOV)\n",
        "\n"
      ],
      "metadata": {
        "id": "ASASupugBEsw"
      }
    },
    {
      "cell_type": "code",
      "source": [
        "wv = api.load('word2vec-google-news-300')"
      ],
      "metadata": {
        "colab": {
          "base_uri": "https://localhost:8080/"
        },
        "id": "zp_N8-wY9IZc",
        "outputId": "b395093e-d4f6-4b51-b46b-b394cf5a1eee"
      },
      "execution_count": 6,
      "outputs": [
        {
          "output_type": "stream",
          "name": "stdout",
          "text": [
            "[==================================================] 100.0% 1662.8/1662.8MB downloaded\n"
          ]
        }
      ]
    },
    {
      "cell_type": "markdown",
      "source": [
        "GloVe : GloVe diffère de Word2Vec dans son approche de la création de vecteurs de mots. Alors que Word2Vec utilise une approche contextuelle (CBOW ou Skip-Gram) pour prédire les mots ou leur contexte, GloVe se concentre sur les informations statistiques globales d’un corpus, en utilisant la cooccurrence des mots pour générer des plongements.\n",
        "\n",
        "L’idée principale derrière GloVe est que le rapport des probabilités de cooccurrence entre deux mots devrait fournir des informations significatives sur la relation entre ces mots.\n",
        "\n",
        "P(A inter B)"
      ],
      "metadata": {
        "id": "Yf4hUDtYB2d4"
      }
    },
    {
      "cell_type": "code",
      "source": [
        "glove = api.load('glove-twitter-100')"
      ],
      "metadata": {
        "id": "WiRNPQ429aW5",
        "colab": {
          "base_uri": "https://localhost:8080/"
        },
        "outputId": "11476693-c02d-4191-94b7-2246b1080835"
      },
      "execution_count": 7,
      "outputs": [
        {
          "output_type": "stream",
          "name": "stdout",
          "text": [
            "[==================================================] 100.0% 387.1/387.1MB downloaded\n"
          ]
        }
      ]
    },
    {
      "cell_type": "markdown",
      "source": [
        "FastText : est une méthode d’intégration de mots développée par le laboratoire AI Research (FAIR) de Facebook. Il s’agit d’une extension de Word2Vec, conçue pour améliorer la qualité des plongements de mots, en particulier pour les mots hors vocabulaire (OOV), en prenant en compte les informations des sous-mots.\n",
        "\n",
        "FastText s’appuie sur les mêmes modèles Skip-gram ou CBOW que Word2Vec, mais inclut les sous-mots n-grammes comme fonctionnalité supplémentaire. La principale différence avec Word2Vec est que chaque mot est représenté par la somme des vecteurs de ses sous-mots, plutôt que d’être traité comme une seule unité."
      ],
      "metadata": {
        "id": "wSaK6fGxCpY9"
      }
    },
    {
      "cell_type": "code",
      "source": [
        "fasttext = api.load('fasttext-wiki-news-subwords-300')"
      ],
      "metadata": {
        "id": "91O8u_wA9dv9",
        "colab": {
          "base_uri": "https://localhost:8080/"
        },
        "outputId": "fd916dfa-c60d-4f5e-cbb5-24684f8d7d3e"
      },
      "execution_count": 8,
      "outputs": [
        {
          "output_type": "stream",
          "name": "stdout",
          "text": [
            "[==================================================] 100.0% 958.5/958.4MB downloaded\n"
          ]
        }
      ]
    },
    {
      "cell_type": "code",
      "source": [
        "wv.most_similar('engineer')"
      ],
      "metadata": {
        "id": "Gu48b5zX9sS8",
        "colab": {
          "base_uri": "https://localhost:8080/"
        },
        "outputId": "15ba2886-ccd7-43f3-9626-36ebb928750a"
      },
      "execution_count": 12,
      "outputs": [
        {
          "output_type": "execute_result",
          "data": {
            "text/plain": [
              "[('electrical_engineer', 0.7500534653663635),\n",
              " ('mechanical_engineer', 0.7456685304641724),\n",
              " ('Engineer', 0.6911254525184631),\n",
              " ('engineering', 0.6766180396080017),\n",
              " ('engineeer', 0.611038863658905),\n",
              " ('engineers', 0.6096685528755188),\n",
              " ('technician', 0.6021502614021301),\n",
              " ('electrician', 0.5883190631866455),\n",
              " ('Mechanical_Engineer', 0.5782192945480347),\n",
              " ('architect', 0.5779430270195007)]"
            ]
          },
          "metadata": {},
          "execution_count": 12
        }
      ]
    },
    {
      "cell_type": "code",
      "source": [
        "wv.most_similar('tennis')"
      ],
      "metadata": {
        "id": "TFNAtpOsDA77",
        "outputId": "21f4dfcf-ac37-4368-e0cd-36b07fade693",
        "colab": {
          "base_uri": "https://localhost:8080/"
        }
      },
      "execution_count": 11,
      "outputs": [
        {
          "output_type": "execute_result",
          "data": {
            "text/plain": [
              "[('Tennis', 0.7291241884231567),\n",
              " ('volleyball', 0.6842045783996582),\n",
              " ('badminton', 0.6706023216247559),\n",
              " ('basketball', 0.6559170484542847),\n",
              " ('soccer', 0.616338312625885),\n",
              " ('beach_volleyball', 0.6127015352249146),\n",
              " ('Steffi_Graff', 0.6037653088569641),\n",
              " ('André_Agassi', 0.5987064242362976),\n",
              " ('golf', 0.5907120108604431),\n",
              " ('TENNIS', 0.5897902250289917)]"
            ]
          },
          "metadata": {},
          "execution_count": 11
        }
      ]
    },
    {
      "cell_type": "code",
      "source": [
        "wv.most_similar('Tunisia')"
      ],
      "metadata": {
        "id": "kT2eCATwDDFi",
        "outputId": "3cb89b1c-c4aa-47dc-8d32-416e7802249b",
        "colab": {
          "base_uri": "https://localhost:8080/"
        }
      },
      "execution_count": 10,
      "outputs": [
        {
          "output_type": "execute_result",
          "data": {
            "text/plain": [
              "[('Tunisian', 0.7654338479042053),\n",
              " ('Egypt', 0.7524809241294861),\n",
              " ('Algeria', 0.6980152726173401),\n",
              " ('Morocco', 0.6671290397644043),\n",
              " ('Tunisians', 0.6517289876937866),\n",
              " ('Tunis', 0.6499572992324829),\n",
              " ('Tunisa', 0.6263828277587891),\n",
              " ('Yemen', 0.6162666082382202),\n",
              " ('Mauritania', 0.6132903695106506),\n",
              " ('Burkina_Faso', 0.6121270060539246)]"
            ]
          },
          "metadata": {},
          "execution_count": 10
        }
      ]
    },
    {
      "cell_type": "code",
      "source": [
        "glove.most_similar('engineer')"
      ],
      "metadata": {
        "id": "PeCnCMabDF7e",
        "outputId": "1f574136-92e2-45a0-d404-5fb4967943c4",
        "colab": {
          "base_uri": "https://localhost:8080/"
        }
      },
      "execution_count": 13,
      "outputs": [
        {
          "output_type": "execute_result",
          "data": {
            "text/plain": [
              "[('technician', 0.8341956734657288),\n",
              " ('engineering', 0.8169041872024536),\n",
              " ('architect', 0.8005006313323975),\n",
              " ('administrator', 0.7952088117599487),\n",
              " ('specialist', 0.7943467497825623),\n",
              " ('consultant', 0.7862327694892883),\n",
              " ('developer', 0.7659751176834106),\n",
              " ('analyst', 0.760871410369873),\n",
              " ('supervisor', 0.7608408331871033),\n",
              " ('assistant', 0.7426972389221191)]"
            ]
          },
          "metadata": {},
          "execution_count": 13
        }
      ]
    },
    {
      "cell_type": "code",
      "source": [
        "glove.most_similar('tennis')"
      ],
      "metadata": {
        "id": "dhxy4WPHDKLv",
        "outputId": "7eb5f918-da57-4f60-ace8-24f84de5f331",
        "colab": {
          "base_uri": "https://localhost:8080/"
        }
      },
      "execution_count": 14,
      "outputs": [
        {
          "output_type": "execute_result",
          "data": {
            "text/plain": [
              "[('soccer', 0.8014198541641235),\n",
              " ('rugby', 0.7587509155273438),\n",
              " ('volleyball', 0.751390278339386),\n",
              " ('hockey', 0.7435187697410583),\n",
              " ('golf', 0.7418977618217468),\n",
              " ('wimbledon', 0.730772852897644),\n",
              " ('handball', 0.7275217175483704),\n",
              " ('badminton', 0.7260984778404236),\n",
              " ('sports', 0.7228738069534302),\n",
              " ('sport', 0.7226900458335876)]"
            ]
          },
          "metadata": {},
          "execution_count": 14
        }
      ]
    },
    {
      "cell_type": "code",
      "source": [
        "glove.most_similar('padel')"
      ],
      "metadata": {
        "id": "WUoLfIxeDLxh",
        "outputId": "f0fee007-9b2e-4e8a-d8e0-3a0de082215b",
        "colab": {
          "base_uri": "https://localhost:8080/"
        }
      },
      "execution_count": 16,
      "outputs": [
        {
          "output_type": "execute_result",
          "data": {
            "text/plain": [
              "[('pádel', 0.7668576240539551),\n",
              " ('partidito', 0.7094596028327942),\n",
              " ('partidillo', 0.6582919955253601),\n",
              " ('billar', 0.6578191518783569),\n",
              " ('futbolin', 0.6517313122749329),\n",
              " ('voley', 0.6515988111495972),\n",
              " ('entreno', 0.6423068642616272),\n",
              " ('basquet', 0.6400604248046875),\n",
              " ('baloncesto', 0.6377711296081543),\n",
              " ('fronton', 0.6376537680625916)]"
            ]
          },
          "metadata": {},
          "execution_count": 16
        }
      ]
    },
    {
      "cell_type": "code",
      "source": [
        "glove.most_similar('engineer')"
      ],
      "metadata": {
        "id": "A5-hl-SlDNa5",
        "outputId": "05220abe-ff07-4927-bd7b-10e0ba47f85d",
        "colab": {
          "base_uri": "https://localhost:8080/"
        }
      },
      "execution_count": 17,
      "outputs": [
        {
          "output_type": "execute_result",
          "data": {
            "text/plain": [
              "[('technician', 0.8341956734657288),\n",
              " ('engineering', 0.8169041872024536),\n",
              " ('architect', 0.8005006313323975),\n",
              " ('administrator', 0.7952088117599487),\n",
              " ('specialist', 0.7943467497825623),\n",
              " ('consultant', 0.7862327694892883),\n",
              " ('developer', 0.7659751176834106),\n",
              " ('analyst', 0.760871410369873),\n",
              " ('supervisor', 0.7608408331871033),\n",
              " ('assistant', 0.7426972389221191)]"
            ]
          },
          "metadata": {},
          "execution_count": 17
        }
      ]
    },
    {
      "cell_type": "code",
      "source": [
        "glove.most_similar('padel')"
      ],
      "metadata": {
        "id": "mrkrO2TZDRu0",
        "outputId": "e2427d88-0cd9-4e40-c04e-ff42f2135d87",
        "colab": {
          "base_uri": "https://localhost:8080/"
        }
      },
      "execution_count": 18,
      "outputs": [
        {
          "output_type": "execute_result",
          "data": {
            "text/plain": [
              "[('pádel', 0.7668576240539551),\n",
              " ('partidito', 0.7094596028327942),\n",
              " ('partidillo', 0.6582919955253601),\n",
              " ('billar', 0.6578191518783569),\n",
              " ('futbolin', 0.6517313122749329),\n",
              " ('voley', 0.6515988111495972),\n",
              " ('entreno', 0.6423068642616272),\n",
              " ('basquet', 0.6400604248046875),\n",
              " ('baloncesto', 0.6377711296081543),\n",
              " ('fronton', 0.6376537680625916)]"
            ]
          },
          "metadata": {},
          "execution_count": 18
        }
      ]
    },
    {
      "cell_type": "code",
      "source": [
        "glove.most_similar('tennis')"
      ],
      "metadata": {
        "id": "Rxl3m5JlDTLp",
        "outputId": "334af4bb-2b1b-428f-94e1-7e6b7a378009",
        "colab": {
          "base_uri": "https://localhost:8080/"
        }
      },
      "execution_count": 20,
      "outputs": [
        {
          "output_type": "execute_result",
          "data": {
            "text/plain": [
              "[('soccer', 0.8014198541641235),\n",
              " ('rugby', 0.7587509155273438),\n",
              " ('volleyball', 0.751390278339386),\n",
              " ('hockey', 0.7435187697410583),\n",
              " ('golf', 0.7418977618217468),\n",
              " ('wimbledon', 0.730772852897644),\n",
              " ('handball', 0.7275217175483704),\n",
              " ('badminton', 0.7260984778404236),\n",
              " ('sports', 0.7228738069534302),\n",
              " ('sport', 0.7226900458335876)]"
            ]
          },
          "metadata": {},
          "execution_count": 20
        }
      ]
    },
    {
      "cell_type": "code",
      "source": [],
      "metadata": {
        "id": "xbkC5XByDUba"
      },
      "execution_count": null,
      "outputs": []
    }
  ]
}